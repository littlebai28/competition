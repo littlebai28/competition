{
  "cells": [
    {
      "cell_type": "markdown",
      "metadata": {
        "id": "WtKK8pfJFoi-"
      },
      "source": [
        "# Data Science Case: Starter Notebook"
      ]
    },
    {
      "cell_type": "code",
      "execution_count": null,
      "metadata": {
        "id": "EoXT4vroFojA"
      },
      "outputs": [],
      "source": [
        "TEAM_PASSWORD = 'UpI7omaywRqCblA' # fill in\n",
        "PORT = 8082 # fill in"
      ]
    },
    {
      "cell_type": "markdown",
      "metadata": {
        "id": "SLgaf8HCFojC"
      },
      "source": [
        "## Download data"
      ]
    },
    {
      "cell_type": "code",
      "execution_count": null,
      "metadata": {
        "colab": {
          "base_uri": "https://localhost:8080/"
        },
        "id": "8D924e69FojD",
        "outputId": "a1902145-905f-4bab-e102-bc4fda2a90e5"
      },
      "outputs": [
        {
          "name": "stdout",
          "output_type": "stream",
          "text": [
            "Downloading from http://3.95.7.226:8081/results/82wyeDQpSMUOUE1/round/1/train.csv\n"
          ]
        }
      ],
      "source": [
        "import urllib.request\n",
        "\n",
        "rounds = ['0', '1', '2', '3']\n",
        "\n",
        "ROUND_NAME_TO_ID = {\n",
        "    '0': 0,\n",
        "    '1': 1,\n",
        "    '2': 2,\n",
        "    '3': 3\n",
        "}\n",
        "\n",
        "def download_train(round_name):\n",
        "    round_id = ROUND_NAME_TO_ID[round_name]\n",
        "    url = f'http://3.95.7.226:{PORT}/results/{TEAM_PASSWORD}/round/{round_id}/train.csv'\n",
        "        \n",
        "    print(f'Downloading from {url}')\n",
        "    urllib.request.urlretrieve(url, f'train_{round_name}.csv')\n",
        "\n",
        "download_train('1')"
      ]
    },
    {
      "cell_type": "code",
      "execution_count": null,
      "metadata": {
        "id": "TTdolGc0FojF"
      },
      "outputs": [],
      "source": [
        "import numpy as np\n",
        "import pandas as pd\n",
        "import matplotlib.pyplot as plt"
      ]
    },
    {
      "cell_type": "markdown",
      "metadata": {
        "id": "DLXUEZaCFojG"
      },
      "source": [
        "### Read train data"
      ]
    },
    {
      "cell_type": "code",
      "execution_count": null,
      "metadata": {
        "colab": {
          "base_uri": "https://localhost:8080/",
          "height": 731
        },
        "collapsed": true,
        "id": "kIwu8PWBFojH",
        "jupyter": {
          "outputs_hidden": true
        },
        "outputId": "e490428c-ca5a-4678-c861-2555e2eb51c9"
      },
      "outputs": [
        {
          "data": {
            "text/html": [
              "\n",
              "  <div id=\"df-c61a290f-2b1c-4a94-971a-dbae6e35e70f\">\n",
              "    <div class=\"colab-df-container\">\n",
              "      <div>\n",
              "<style scoped>\n",
              "    .dataframe tbody tr th:only-of-type {\n",
              "        vertical-align: middle;\n",
              "    }\n",
              "\n",
              "    .dataframe tbody tr th {\n",
              "        vertical-align: top;\n",
              "    }\n",
              "\n",
              "    .dataframe thead th {\n",
              "        text-align: right;\n",
              "    }\n",
              "</style>\n",
              "<table border=\"1\" class=\"dataframe\">\n",
              "  <thead>\n",
              "    <tr style=\"text-align: right;\">\n",
              "      <th></th>\n",
              "      <th>Stock1</th>\n",
              "      <th>Stock2</th>\n",
              "      <th>Stock3</th>\n",
              "      <th>Stock4</th>\n",
              "      <th>Stock1_Delay</th>\n",
              "      <th>Stock2_Delay</th>\n",
              "      <th>Stock3_Delay</th>\n",
              "      <th>Stock4_Delay</th>\n",
              "    </tr>\n",
              "  </thead>\n",
              "  <tbody>\n",
              "    <tr>\n",
              "      <th>0</th>\n",
              "      <td>1147.07</td>\n",
              "      <td>1770.06</td>\n",
              "      <td>1612.78</td>\n",
              "      <td>1671.70</td>\n",
              "      <td>1146.71</td>\n",
              "      <td>1786.71</td>\n",
              "      <td>1615.70</td>\n",
              "      <td>1672.81</td>\n",
              "    </tr>\n",
              "    <tr>\n",
              "      <th>1</th>\n",
              "      <td>1148.06</td>\n",
              "      <td>1762.84</td>\n",
              "      <td>1609.76</td>\n",
              "      <td>1671.24</td>\n",
              "      <td>1147.07</td>\n",
              "      <td>1770.06</td>\n",
              "      <td>1612.78</td>\n",
              "      <td>1671.70</td>\n",
              "    </tr>\n",
              "    <tr>\n",
              "      <th>2</th>\n",
              "      <td>1148.38</td>\n",
              "      <td>1766.16</td>\n",
              "      <td>1607.54</td>\n",
              "      <td>1670.82</td>\n",
              "      <td>1148.06</td>\n",
              "      <td>1762.84</td>\n",
              "      <td>1609.76</td>\n",
              "      <td>1671.24</td>\n",
              "    </tr>\n",
              "    <tr>\n",
              "      <th>3</th>\n",
              "      <td>1148.75</td>\n",
              "      <td>1773.47</td>\n",
              "      <td>1599.46</td>\n",
              "      <td>1670.38</td>\n",
              "      <td>1148.38</td>\n",
              "      <td>1766.16</td>\n",
              "      <td>1607.54</td>\n",
              "      <td>1670.82</td>\n",
              "    </tr>\n",
              "    <tr>\n",
              "      <th>4</th>\n",
              "      <td>1148.50</td>\n",
              "      <td>1772.99</td>\n",
              "      <td>1598.25</td>\n",
              "      <td>1669.23</td>\n",
              "      <td>1148.75</td>\n",
              "      <td>1773.47</td>\n",
              "      <td>1599.46</td>\n",
              "      <td>1670.38</td>\n",
              "    </tr>\n",
              "    <tr>\n",
              "      <th>...</th>\n",
              "      <td>...</td>\n",
              "      <td>...</td>\n",
              "      <td>...</td>\n",
              "      <td>...</td>\n",
              "      <td>...</td>\n",
              "      <td>...</td>\n",
              "      <td>...</td>\n",
              "      <td>...</td>\n",
              "    </tr>\n",
              "    <tr>\n",
              "      <th>995</th>\n",
              "      <td>1257.02</td>\n",
              "      <td>1664.57</td>\n",
              "      <td>1546.97</td>\n",
              "      <td>1664.74</td>\n",
              "      <td>1258.33</td>\n",
              "      <td>1666.58</td>\n",
              "      <td>1548.73</td>\n",
              "      <td>1664.62</td>\n",
              "    </tr>\n",
              "    <tr>\n",
              "      <th>996</th>\n",
              "      <td>1255.80</td>\n",
              "      <td>1662.77</td>\n",
              "      <td>1547.24</td>\n",
              "      <td>1664.50</td>\n",
              "      <td>1257.02</td>\n",
              "      <td>1664.57</td>\n",
              "      <td>1546.97</td>\n",
              "      <td>1664.74</td>\n",
              "    </tr>\n",
              "    <tr>\n",
              "      <th>997</th>\n",
              "      <td>1253.14</td>\n",
              "      <td>1652.10</td>\n",
              "      <td>1547.39</td>\n",
              "      <td>1664.40</td>\n",
              "      <td>1255.80</td>\n",
              "      <td>1662.77</td>\n",
              "      <td>1547.24</td>\n",
              "      <td>1664.50</td>\n",
              "    </tr>\n",
              "    <tr>\n",
              "      <th>998</th>\n",
              "      <td>1251.94</td>\n",
              "      <td>1649.13</td>\n",
              "      <td>1547.61</td>\n",
              "      <td>1664.52</td>\n",
              "      <td>1253.14</td>\n",
              "      <td>1652.10</td>\n",
              "      <td>1547.39</td>\n",
              "      <td>1664.40</td>\n",
              "    </tr>\n",
              "    <tr>\n",
              "      <th>999</th>\n",
              "      <td>1252.77</td>\n",
              "      <td>1629.81</td>\n",
              "      <td>1548.55</td>\n",
              "      <td>1664.55</td>\n",
              "      <td>1251.94</td>\n",
              "      <td>1649.13</td>\n",
              "      <td>1547.61</td>\n",
              "      <td>1664.52</td>\n",
              "    </tr>\n",
              "  </tbody>\n",
              "</table>\n",
              "<p>1000 rows × 8 columns</p>\n",
              "</div>\n",
              "      <button class=\"colab-df-convert\" onclick=\"convertToInteractive('df-c61a290f-2b1c-4a94-971a-dbae6e35e70f')\"\n",
              "              title=\"Convert this dataframe to an interactive table.\"\n",
              "              style=\"display:none;\">\n",
              "        \n",
              "  <svg xmlns=\"http://www.w3.org/2000/svg\" height=\"24px\"viewBox=\"0 0 24 24\"\n",
              "       width=\"24px\">\n",
              "    <path d=\"M0 0h24v24H0V0z\" fill=\"none\"/>\n",
              "    <path d=\"M18.56 5.44l.94 2.06.94-2.06 2.06-.94-2.06-.94-.94-2.06-.94 2.06-2.06.94zm-11 1L8.5 8.5l.94-2.06 2.06-.94-2.06-.94L8.5 2.5l-.94 2.06-2.06.94zm10 10l.94 2.06.94-2.06 2.06-.94-2.06-.94-.94-2.06-.94 2.06-2.06.94z\"/><path d=\"M17.41 7.96l-1.37-1.37c-.4-.4-.92-.59-1.43-.59-.52 0-1.04.2-1.43.59L10.3 9.45l-7.72 7.72c-.78.78-.78 2.05 0 2.83L4 21.41c.39.39.9.59 1.41.59.51 0 1.02-.2 1.41-.59l7.78-7.78 2.81-2.81c.8-.78.8-2.07 0-2.86zM5.41 20L4 18.59l7.72-7.72 1.47 1.35L5.41 20z\"/>\n",
              "  </svg>\n",
              "      </button>\n",
              "      \n",
              "  <style>\n",
              "    .colab-df-container {\n",
              "      display:flex;\n",
              "      flex-wrap:wrap;\n",
              "      gap: 12px;\n",
              "    }\n",
              "\n",
              "    .colab-df-convert {\n",
              "      background-color: #E8F0FE;\n",
              "      border: none;\n",
              "      border-radius: 50%;\n",
              "      cursor: pointer;\n",
              "      display: none;\n",
              "      fill: #1967D2;\n",
              "      height: 32px;\n",
              "      padding: 0 0 0 0;\n",
              "      width: 32px;\n",
              "    }\n",
              "\n",
              "    .colab-df-convert:hover {\n",
              "      background-color: #E2EBFA;\n",
              "      box-shadow: 0px 1px 2px rgba(60, 64, 67, 0.3), 0px 1px 3px 1px rgba(60, 64, 67, 0.15);\n",
              "      fill: #174EA6;\n",
              "    }\n",
              "\n",
              "    [theme=dark] .colab-df-convert {\n",
              "      background-color: #3B4455;\n",
              "      fill: #D2E3FC;\n",
              "    }\n",
              "\n",
              "    [theme=dark] .colab-df-convert:hover {\n",
              "      background-color: #434B5C;\n",
              "      box-shadow: 0px 1px 3px 1px rgba(0, 0, 0, 0.15);\n",
              "      filter: drop-shadow(0px 1px 2px rgba(0, 0, 0, 0.3));\n",
              "      fill: #FFFFFF;\n",
              "    }\n",
              "  </style>\n",
              "\n",
              "      <script>\n",
              "        const buttonEl =\n",
              "          document.querySelector('#df-c61a290f-2b1c-4a94-971a-dbae6e35e70f button.colab-df-convert');\n",
              "        buttonEl.style.display =\n",
              "          google.colab.kernel.accessAllowed ? 'block' : 'none';\n",
              "\n",
              "        async function convertToInteractive(key) {\n",
              "          const element = document.querySelector('#df-c61a290f-2b1c-4a94-971a-dbae6e35e70f');\n",
              "          const dataTable =\n",
              "            await google.colab.kernel.invokeFunction('convertToInteractive',\n",
              "                                                     [key], {});\n",
              "          if (!dataTable) return;\n",
              "\n",
              "          const docLinkHtml = 'Like what you see? Visit the ' +\n",
              "            '<a target=\"_blank\" href=https://colab.research.google.com/notebooks/data_table.ipynb>data table notebook</a>'\n",
              "            + ' to learn more about interactive tables.';\n",
              "          element.innerHTML = '';\n",
              "          dataTable['output_type'] = 'display_data';\n",
              "          await google.colab.output.renderOutput(dataTable, element);\n",
              "          const docLink = document.createElement('div');\n",
              "          docLink.innerHTML = docLinkHtml;\n",
              "          element.appendChild(docLink);\n",
              "        }\n",
              "      </script>\n",
              "    </div>\n",
              "  </div>\n",
              "  "
            ],
            "text/plain": [
              "      Stock1   Stock2   Stock3   Stock4  Stock1_Delay  Stock2_Delay  \\\n",
              "0    1147.07  1770.06  1612.78  1671.70       1146.71       1786.71   \n",
              "1    1148.06  1762.84  1609.76  1671.24       1147.07       1770.06   \n",
              "2    1148.38  1766.16  1607.54  1670.82       1148.06       1762.84   \n",
              "3    1148.75  1773.47  1599.46  1670.38       1148.38       1766.16   \n",
              "4    1148.50  1772.99  1598.25  1669.23       1148.75       1773.47   \n",
              "..       ...      ...      ...      ...           ...           ...   \n",
              "995  1257.02  1664.57  1546.97  1664.74       1258.33       1666.58   \n",
              "996  1255.80  1662.77  1547.24  1664.50       1257.02       1664.57   \n",
              "997  1253.14  1652.10  1547.39  1664.40       1255.80       1662.77   \n",
              "998  1251.94  1649.13  1547.61  1664.52       1253.14       1652.10   \n",
              "999  1252.77  1629.81  1548.55  1664.55       1251.94       1649.13   \n",
              "\n",
              "     Stock3_Delay  Stock4_Delay  \n",
              "0         1615.70       1672.81  \n",
              "1         1612.78       1671.70  \n",
              "2         1609.76       1671.24  \n",
              "3         1607.54       1670.82  \n",
              "4         1599.46       1670.38  \n",
              "..            ...           ...  \n",
              "995       1548.73       1664.62  \n",
              "996       1546.97       1664.74  \n",
              "997       1547.24       1664.50  \n",
              "998       1547.39       1664.40  \n",
              "999       1547.61       1664.52  \n",
              "\n",
              "[1000 rows x 8 columns]"
            ]
          },
          "execution_count": 5,
          "metadata": {},
          "output_type": "execute_result"
        },
        {
          "data": {
            "image/png": "[encoded data removed]",
            "text/plain": [
              "<Figure size 432x288 with 1 Axes>"
            ]
          },
          "metadata": {
            "needs_background": "light"
          },
          "output_type": "display_data"
        }
      ],
      "source": [
        "df = pd.read_csv('train_1.csv', index_col=None)\n",
        "df.plot()\n",
        "df"
      ]
    },
    {
      "cell_type": "markdown",
      "metadata": {
        "id": "REGvN7DCFojI"
      },
      "source": [
        "## Basic Plotting"
      ]
    },
    {
      "cell_type": "code",
      "execution_count": null,
      "metadata": {
        "colab": {
          "base_uri": "https://localhost:8080/"
        },
        "id": "e5-exWEGFojJ",
        "outputId": "fd32feff-0c2f-45d3-f083-40076018979f"
      },
      "outputs": [
        {
          "name": "stderr",
          "output_type": "stream",
          "text": [
            "/usr/local/lib/python3.7/dist-packages/ipykernel_launcher.py:1: SettingWithCopyWarning: \n",
            "A value is trying to be set on a copy of a slice from a DataFrame.\n",
            "Try using .loc[row_indexer,col_indexer] = value instead\n",
            "\n",
            "See the caveats in the documentation: https://pandas.pydata.org/pandas-docs/stable/user_guide/indexing.html#returning-a-view-versus-a-copy\n",
            "  \"\"\"Entry point for launching an IPython kernel.\n",
            "/usr/local/lib/python3.7/dist-packages/ipykernel_launcher.py:2: SettingWithCopyWarning: \n",
            "A value is trying to be set on a copy of a slice from a DataFrame.\n",
            "Try using .loc[row_indexer,col_indexer] = value instead\n",
            "\n",
            "See the caveats in the documentation: https://pandas.pydata.org/pandas-docs/stable/user_guide/indexing.html#returning-a-view-versus-a-copy\n",
            "  \n"
          ]
        }
      ],
      "source": [
        "df['Stock1Rets'] = df['Stock1'].pct_change()\n",
        "df['Stock2Rets'] = df['Stock2'].pct_change()\n",
        "df = df.dropna()"
      ]
    },
    {
      "cell_type": "code",
      "execution_count": null,
      "metadata": {
        "colab": {
          "base_uri": "https://localhost:8080/",
          "height": 296
        },
        "id": "aJjuqbbOFojK",
        "outputId": "c61f056f-be4f-4da0-99ac-f6953b1e21d5"
      },
      "outputs": [
        {
          "data": {
            "text/plain": [
              "<matplotlib.axes._subplots.AxesSubplot at 0x7faee780db90>"
            ]
          },
          "execution_count": 9,
          "metadata": {},
          "output_type": "execute_result"
        },
        {
          "data": {
            "image/png": "[encoded data removed]",
            "text/plain": [
              "<Figure size 432x288 with 1 Axes>"
            ]
          },
          "metadata": {
            "needs_background": "light"
          },
          "output_type": "display_data"
        }
      ],
      "source": [
        "df.plot.scatter('Stock1Rets', 'Stock2Rets')"
      ]
    },
    {
      "cell_type": "markdown",
      "metadata": {
        "id": "GAql1tGZFojL"
      },
      "source": [
        "## Linear Regression"
      ]
    },
    {
      "cell_type": "code",
      "execution_count": null,
      "metadata": {
        "id": "U6I7K8T_FojM"
      },
      "outputs": [],
      "source": [
        "from sklearn.linear_model import LinearRegression"
      ]
    },
    {
      "cell_type": "code",
      "execution_count": null,
      "metadata": {
        "colab": {
          "base_uri": "https://localhost:8080/",
          "height": 330
        },
        "id": "8aSe2O7yFojN",
        "outputId": "0371a66c-4a76-414a-abf2-ae06b614090a"
      },
      "outputs": [
        {
          "name": "stdout",
          "output_type": "stream",
          "text": [
            "beta: 2.2533287819625594\n",
            "intercept: [-0.00025088]\n",
            "In sample R2: 0.14718749781718288\n"
          ]
        },
        {
          "data": {
            "image/png": "[encoded data removed]",
            "text/plain": [
              "<Figure size 432x288 with 1 Axes>"
            ]
          },
          "metadata": {
            "needs_background": "light"
          },
          "output_type": "display_data"
        }
      ],
      "source": [
        "model = LinearRegression()\n",
        "X = df[['Stock1Rets']].to_numpy()\n",
        "Y = df[['Stock2Rets']].to_numpy()\n",
        "model.fit(X, Y)\n",
        "\n",
        "beta = model.coef_[0,0]\n",
        "intercept = model.intercept_\n",
        "\n",
        "ax = df.plot.scatter('Stock1Rets', 'Stock2Rets')\n",
        "x_bound = np.max(np.abs(X))\n",
        "ax.plot([-x_bound, x_bound], [-x_bound * beta, x_bound * beta])\n",
        "\n",
        "\n",
        "\n",
        "print(f'beta: {beta}')\n",
        "print(f'intercept: {intercept}')\n",
        "\n",
        "print(f'In sample R2: {model.score(X, Y)}')"
      ]
    },
    {
      "cell_type": "code",
      "execution_count": null,
      "metadata": {
        "id": "LqHvKkZhFojO"
      },
      "outputs": [],
      "source": []
    }
  ],
  "metadata": {
    "colab": {
      "collapsed_sections": [],
      "provenance": []
    },
    "kernelspec": {
      "display_name": "Python 3",
      "name": "python3"
    },
    "language_info": {
      "name": "python",
      "version": "3.8.2"
    }
  },
  "nbformat": 4,
  "nbformat_minor": 0
}
